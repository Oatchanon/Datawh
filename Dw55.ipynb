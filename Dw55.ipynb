{
  "nbformat": 4,
  "nbformat_minor": 0,
  "metadata": {
    "colab": {
      "name": "Dw55.ipynb",
      "provenance": [],
      "include_colab_link": true
    },
    "kernelspec": {
      "name": "python3",
      "display_name": "Python 3"
    }
  },
  "cells": [
    {
      "cell_type": "markdown",
      "metadata": {
        "id": "view-in-github",
        "colab_type": "text"
      },
      "source": [
        "<a href=\"https://colab.research.google.com/github/Oatchanon/Datawh/blob/master/Dw55.ipynb\" target=\"_parent\"><img src=\"https://colab.research.google.com/assets/colab-badge.svg\" alt=\"Open In Colab\"/></a>"
      ]
    },
    {
      "cell_type": "markdown",
      "metadata": {
        "id": "Ix-RzZPSmwZy",
        "colab_type": "text"
      },
      "source": [
        "# List\n",
        "How to use list \n"
      ]
    },
    {
      "cell_type": "code",
      "metadata": {
        "id": "J2KTHVAXm45a",
        "colab_type": "code",
        "colab": {
          "base_uri": "https://localhost:8080/",
          "height": 34
        },
        "outputId": "02d3805a-33e6-4db0-d86a-710afba3f552"
      },
      "source": [
        "mylist = []\n",
        "mylist.append(\"Oat\")\n",
        "mylist.append(200)\n",
        "mylist"
      ],
      "execution_count": 5,
      "outputs": [
        {
          "output_type": "execute_result",
          "data": {
            "text/plain": [
              "['Oat', 200]"
            ]
          },
          "metadata": {
            "tags": []
          },
          "execution_count": 5
        }
      ]
    },
    {
      "cell_type": "code",
      "metadata": {
        "id": "a3GjQF_nqg9A",
        "colab_type": "code",
        "colab": {}
      },
      "source": [
        ""
      ],
      "execution_count": 0,
      "outputs": []
    },
    {
      "cell_type": "markdown",
      "metadata": {
        "id": "AFgeQsuvnz35",
        "colab_type": "text"
      },
      "source": [
        "# if else\n",
        "how to use"
      ]
    },
    {
      "cell_type": "code",
      "metadata": {
        "id": "M0I76mzRnZex",
        "colab_type": "code",
        "colab": {
          "base_uri": "https://localhost:8080/",
          "height": 129
        },
        "outputId": "851ecaa2-4df0-4553-bcea-1e57d52c54ba"
      },
      "source": [
        "    "
      ],
      "execution_count": 80,
      "outputs": [
        {
          "output_type": "error",
          "ename": "IndentationError",
          "evalue": "ignored",
          "traceback": [
            "\u001b[0;36m  File \u001b[0;32m\"<ipython-input-80-53074cc1e662>\"\u001b[0;36m, line \u001b[0;32m2\u001b[0m\n\u001b[0;31m    if score > 50 :\u001b[0m\n\u001b[0m    ^\u001b[0m\n\u001b[0;31mIndentationError\u001b[0m\u001b[0;31m:\u001b[0m unexpected indent\n"
          ]
        }
      ]
    },
    {
      "cell_type": "markdown",
      "metadata": {
        "id": "blspOiP2vSQs",
        "colab_type": "text"
      },
      "source": [
        ""
      ]
    },
    {
      "cell_type": "code",
      "metadata": {
        "id": "onLwKZJ5qh0m",
        "colab_type": "code",
        "colab": {}
      },
      "source": [
        "# Loop"
      ],
      "execution_count": 0,
      "outputs": []
    },
    {
      "cell_type": "code",
      "metadata": {
        "id": "-NARNSjqrLxm",
        "colab_type": "code",
        "colab": {
          "base_uri": "https://localhost:8080/",
          "height": 1000
        },
        "outputId": "2d58df02-405e-426e-9025-7e3372ecb212"
      },
      "source": [
        "summation =[]\n",
        "for i in range(0,10):\n",
        "   sumation.append(i)\n",
        "for i in sumation :\n",
        "  print(str(i))"
      ],
      "execution_count": 87,
      "outputs": [
        {
          "output_type": "stream",
          "text": [
            "1\n",
            "1\n",
            "1\n",
            "1\n",
            "1\n",
            "1\n",
            "1\n",
            "1\n",
            "1\n",
            "1\n",
            "0\n",
            "1\n",
            "2\n",
            "3\n",
            "4\n",
            "5\n",
            "6\n",
            "7\n",
            "8\n",
            "9\n",
            "0\n",
            "1\n",
            "2\n",
            "3\n",
            "4\n",
            "5\n",
            "6\n",
            "7\n",
            "8\n",
            "9\n",
            "0\n",
            "1\n",
            "2\n",
            "3\n",
            "4\n",
            "5\n",
            "6\n",
            "7\n",
            "8\n",
            "9\n",
            "0\n",
            "1\n",
            "2\n",
            "3\n",
            "4\n",
            "5\n",
            "6\n",
            "7\n",
            "8\n",
            "9\n",
            "0\n",
            "1\n",
            "2\n",
            "3\n",
            "4\n",
            "5\n",
            "6\n",
            "7\n",
            "8\n",
            "9\n",
            "0\n",
            "1\n",
            "2\n",
            "3\n",
            "4\n",
            "5\n",
            "6\n",
            "7\n",
            "8\n",
            "9\n",
            "0\n",
            "1\n",
            "2\n",
            "3\n",
            "4\n",
            "5\n",
            "6\n",
            "7\n",
            "8\n",
            "9\n"
          ],
          "name": "stdout"
        }
      ]
    },
    {
      "cell_type": "markdown",
      "metadata": {
        "id": "_udb1qi8vTMT",
        "colab_type": "text"
      },
      "source": [
        "#Numpy\n",
        "lib for martix opperration"
      ]
    },
    {
      "cell_type": "code",
      "metadata": {
        "id": "NZqvf-LZw1_r",
        "colab_type": "code",
        "colab": {}
      },
      "source": [
        "import numpy as np"
      ],
      "execution_count": 0,
      "outputs": []
    },
    {
      "cell_type": "code",
      "metadata": {
        "id": "H_OQi4MMwiAD",
        "colab_type": "code",
        "colab": {
          "base_uri": "https://localhost:8080/",
          "height": 34
        },
        "outputId": "9d12faaa-9c07-4d70-b1e1-085020c9f955"
      },
      "source": [
        "l = [1, 2, 3, 4, 5]\n",
        "np_array = np.array(l)\n",
        "type(np_array)"
      ],
      "execution_count": 96,
      "outputs": [
        {
          "output_type": "execute_result",
          "data": {
            "text/plain": [
              "numpy.ndarray"
            ]
          },
          "metadata": {
            "tags": []
          },
          "execution_count": 96
        }
      ]
    },
    {
      "cell_type": "code",
      "metadata": {
        "id": "UCxxtia0vajj",
        "colab_type": "code",
        "colab": {
          "base_uri": "https://localhost:8080/",
          "height": 68
        },
        "outputId": "ce0d0a60-3410-465e-c62e-27dee80f3714"
      },
      "source": [
        "\n",
        "np_matrix = np.array([[1,2],[3,4],[5,6]])\n",
        "np_matrix"
      ],
      "execution_count": 120,
      "outputs": [
        {
          "output_type": "execute_result",
          "data": {
            "text/plain": [
              "array([[1, 2],\n",
              "       [3, 4],\n",
              "       [5, 6]])"
            ]
          },
          "metadata": {
            "tags": []
          },
          "execution_count": 120
        }
      ]
    },
    {
      "cell_type": "code",
      "metadata": {
        "id": "d8chKW6iwawj",
        "colab_type": "code",
        "colab": {
          "base_uri": "https://localhost:8080/",
          "height": 34
        },
        "outputId": "00205551-36cd-4428-bee4-ac2520850a58"
      },
      "source": [
        "np.size(np_matrix,0)"
      ],
      "execution_count": 114,
      "outputs": [
        {
          "output_type": "execute_result",
          "data": {
            "text/plain": [
              "3"
            ]
          },
          "metadata": {
            "tags": []
          },
          "execution_count": 114
        }
      ]
    },
    {
      "cell_type": "code",
      "metadata": {
        "id": "fbyYMmmlxH8i",
        "colab_type": "code",
        "colab": {
          "base_uri": "https://localhost:8080/",
          "height": 34
        },
        "outputId": "e4b750cc-1fd2-4a3a-c8c5-41ee57dd6875"
      },
      "source": [
        "np.size(np_matrix,1)"
      ],
      "execution_count": 113,
      "outputs": [
        {
          "output_type": "execute_result",
          "data": {
            "text/plain": [
              "2"
            ]
          },
          "metadata": {
            "tags": []
          },
          "execution_count": 113
        }
      ]
    },
    {
      "cell_type": "code",
      "metadata": {
        "id": "XbB2oLcuxRTh",
        "colab_type": "code",
        "colab": {
          "base_uri": "https://localhost:8080/",
          "height": 34
        },
        "outputId": "4be78a69-c728-4783-a8dd-44773c70a946"
      },
      "source": [
        "np_matrix.shape"
      ],
      "execution_count": 117,
      "outputs": [
        {
          "output_type": "execute_result",
          "data": {
            "text/plain": [
              "(3, 2)"
            ]
          },
          "metadata": {
            "tags": []
          },
          "execution_count": 117
        }
      ]
    },
    {
      "cell_type": "code",
      "metadata": {
        "id": "7-c4KI2dxdw5",
        "colab_type": "code",
        "colab": {
          "base_uri": "https://localhost:8080/",
          "height": 34
        },
        "outputId": "5b5e02e2-4c7a-4272-c62a-f20af04259d0"
      },
      "source": [
        "np_matrix.ndim"
      ],
      "execution_count": 115,
      "outputs": [
        {
          "output_type": "execute_result",
          "data": {
            "text/plain": [
              "2"
            ]
          },
          "metadata": {
            "tags": []
          },
          "execution_count": 115
        }
      ]
    },
    {
      "cell_type": "code",
      "metadata": {
        "id": "VKcAM7kQxhqR",
        "colab_type": "code",
        "colab": {
          "base_uri": "https://localhost:8080/",
          "height": 34
        },
        "outputId": "064b01d8-6f8e-46d8-d3c1-9a9b1f1a3f48"
      },
      "source": [
        "np_matrix.size"
      ],
      "execution_count": 121,
      "outputs": [
        {
          "output_type": "execute_result",
          "data": {
            "text/plain": [
              "6"
            ]
          },
          "metadata": {
            "tags": []
          },
          "execution_count": 121
        }
      ]
    },
    {
      "cell_type": "code",
      "metadata": {
        "id": "kwpu-u80yb3i",
        "colab_type": "code",
        "colab": {
          "base_uri": "https://localhost:8080/",
          "height": 68
        },
        "outputId": "517e1699-cddd-4b7f-b878-3e952c530bf8"
      },
      "source": [
        "np_mix_matrix = np.array([['one',2],['three',4],['five',6]])\n",
        "np_mix_matrix"
      ],
      "execution_count": 123,
      "outputs": [
        {
          "output_type": "execute_result",
          "data": {
            "text/plain": [
              "array([['one', '2'],\n",
              "       ['three', '4'],\n",
              "       ['five', '6']], dtype='<U5')"
            ]
          },
          "metadata": {
            "tags": []
          },
          "execution_count": 123
        }
      ]
    },
    {
      "cell_type": "code",
      "metadata": {
        "id": "nShjcdD3y2VA",
        "colab_type": "code",
        "colab": {
          "base_uri": "https://localhost:8080/",
          "height": 34
        },
        "outputId": "31cda9a7-33f5-4d1b-acc1-48293f6eb615"
      },
      "source": [
        "np_mix_matrix[0,1]"
      ],
      "execution_count": 125,
      "outputs": [
        {
          "output_type": "execute_result",
          "data": {
            "text/plain": [
              "'2'"
            ]
          },
          "metadata": {
            "tags": []
          },
          "execution_count": 125
        }
      ]
    },
    {
      "cell_type": "code",
      "metadata": {
        "id": "BlKmjIiFy_A4",
        "colab_type": "code",
        "colab": {
          "base_uri": "https://localhost:8080/",
          "height": 34
        },
        "outputId": "a85a5b9a-24d1-4ed0-c3b5-ac1ea0b5299f"
      },
      "source": [
        "np_mix_matrix[:,0]"
      ],
      "execution_count": 130,
      "outputs": [
        {
          "output_type": "execute_result",
          "data": {
            "text/plain": [
              "array(['one', 'three', 'five'], dtype='<U5')"
            ]
          },
          "metadata": {
            "tags": []
          },
          "execution_count": 130
        }
      ]
    },
    {
      "cell_type": "code",
      "metadata": {
        "id": "RAuUXu2MzRMQ",
        "colab_type": "code",
        "colab": {
          "base_uri": "https://localhost:8080/",
          "height": 34
        },
        "outputId": "48c6b52b-70ec-421e-8554-cf03b929082a"
      },
      "source": [
        "np_mix_matrix[0,:]"
      ],
      "execution_count": 131,
      "outputs": [
        {
          "output_type": "execute_result",
          "data": {
            "text/plain": [
              "array(['one', '2'], dtype='<U5')"
            ]
          },
          "metadata": {
            "tags": []
          },
          "execution_count": 131
        }
      ]
    },
    {
      "cell_type": "code",
      "metadata": {
        "id": "xJjfDxJHzYK4",
        "colab_type": "code",
        "colab": {
          "base_uri": "https://localhost:8080/",
          "height": 51
        },
        "outputId": "ba9dcf9f-f9d2-42a2-b078-2a525a6491c9"
      },
      "source": [
        "np_mix_matrix[0:2,]"
      ],
      "execution_count": 132,
      "outputs": [
        {
          "output_type": "execute_result",
          "data": {
            "text/plain": [
              "array([['one', '2'],\n",
              "       ['three', '4']], dtype='<U5')"
            ]
          },
          "metadata": {
            "tags": []
          },
          "execution_count": 132
        }
      ]
    },
    {
      "cell_type": "code",
      "metadata": {
        "id": "ugaq-TfGzjrY",
        "colab_type": "code",
        "colab": {
          "base_uri": "https://localhost:8080/",
          "height": 34
        },
        "outputId": "5d0b7762-0011-4b04-abfd-a490badfa203"
      },
      "source": [
        "np.array(np_mix_matrix[:,1], dtype = int)"
      ],
      "execution_count": 135,
      "outputs": [
        {
          "output_type": "execute_result",
          "data": {
            "text/plain": [
              "array([2, 4, 6])"
            ]
          },
          "metadata": {
            "tags": []
          },
          "execution_count": 135
        }
      ]
    },
    {
      "cell_type": "code",
      "metadata": {
        "id": "7bk3kbF80Cxf",
        "colab_type": "code",
        "colab": {
          "base_uri": "https://localhost:8080/",
          "height": 51
        },
        "outputId": "cdc0950b-d983-42e5-d6a7-f09cb48ce598"
      },
      "source": [
        "np.zeros([2,3])"
      ],
      "execution_count": 136,
      "outputs": [
        {
          "output_type": "execute_result",
          "data": {
            "text/plain": [
              "array([[0., 0., 0.],\n",
              "       [0., 0., 0.]])"
            ]
          },
          "metadata": {
            "tags": []
          },
          "execution_count": 136
        }
      ]
    },
    {
      "cell_type": "code",
      "metadata": {
        "id": "KvUqZiEs0wPP",
        "colab_type": "code",
        "colab": {
          "base_uri": "https://localhost:8080/",
          "height": 102
        },
        "outputId": "4256ae28-0c48-4245-b7bb-39d26ede9465"
      },
      "source": [
        "np.ones([5,5])"
      ],
      "execution_count": 140,
      "outputs": [
        {
          "output_type": "execute_result",
          "data": {
            "text/plain": [
              "array([[1., 1., 1., 1., 1.],\n",
              "       [1., 1., 1., 1., 1.],\n",
              "       [1., 1., 1., 1., 1.],\n",
              "       [1., 1., 1., 1., 1.],\n",
              "       [1., 1., 1., 1., 1.]])"
            ]
          },
          "metadata": {
            "tags": []
          },
          "execution_count": 140
        }
      ]
    },
    {
      "cell_type": "code",
      "metadata": {
        "id": "yoiiMTeu062I",
        "colab_type": "code",
        "colab": {
          "base_uri": "https://localhost:8080/",
          "height": 102
        },
        "outputId": "b10c787a-ecfd-4916-da8e-f833f11684a9"
      },
      "source": [
        "np.random.rand(5,5)"
      ],
      "execution_count": 142,
      "outputs": [
        {
          "output_type": "execute_result",
          "data": {
            "text/plain": [
              "array([[0.23066135, 0.50271564, 0.6682646 , 0.13687505, 0.86777914],\n",
              "       [0.61842139, 0.42442503, 0.08453946, 0.58994949, 0.08055398],\n",
              "       [0.52921119, 0.76364517, 0.18893441, 0.34296824, 0.39962617],\n",
              "       [0.3027446 , 0.29268763, 0.99996253, 0.18975817, 0.92850374],\n",
              "       [0.1428266 , 0.60210881, 0.58325803, 0.31621874, 0.73758275]])"
            ]
          },
          "metadata": {
            "tags": []
          },
          "execution_count": 142
        }
      ]
    },
    {
      "cell_type": "code",
      "metadata": {
        "id": "pxGH2-RP25Rw",
        "colab_type": "code",
        "colab": {
          "base_uri": "https://localhost:8080/",
          "height": 102
        },
        "outputId": "cce8c16e-f8df-44ef-8cc6-a016a481344b"
      },
      "source": [
        "np.empty([5,5])"
      ],
      "execution_count": 155,
      "outputs": [
        {
          "output_type": "execute_result",
          "data": {
            "text/plain": [
              "array([[0.23066135, 0.50271564, 0.6682646 , 0.13687505, 0.86777914],\n",
              "       [0.61842139, 0.42442503, 0.08453946, 0.58994949, 0.08055398],\n",
              "       [0.52921119, 0.76364517, 0.18893441, 0.34296824, 0.39962617],\n",
              "       [0.3027446 , 0.29268763, 0.99996253, 0.18975817, 0.92850374],\n",
              "       [0.1428266 , 0.60210881, 0.58325803, 0.31621874, 0.73758275]])"
            ]
          },
          "metadata": {
            "tags": []
          },
          "execution_count": 155
        }
      ]
    },
    {
      "cell_type": "code",
      "metadata": {
        "id": "0NQMcryn1MnO",
        "colab_type": "code",
        "colab": {
          "base_uri": "https://localhost:8080/",
          "height": 68
        },
        "outputId": "37cce9ea-2de6-4941-a2e0-83f6ef027af3"
      },
      "source": [
        "np.random.randint(5, size = (3,3))"
      ],
      "execution_count": 147,
      "outputs": [
        {
          "output_type": "execute_result",
          "data": {
            "text/plain": [
              "array([[1, 0, 3],\n",
              "       [3, 0, 4],\n",
              "       [0, 4, 2]])"
            ]
          },
          "metadata": {
            "tags": []
          },
          "execution_count": 147
        }
      ]
    },
    {
      "cell_type": "code",
      "metadata": {
        "id": "rYY5Uqdu2G8o",
        "colab_type": "code",
        "colab": {
          "base_uri": "https://localhost:8080/",
          "height": 214
        },
        "outputId": "f15d92dd-fbaa-414f-8243-b2509dc3c435"
      },
      "source": [
        "import matplotlib.pyplot as plt\n",
        "fig, axes = plt.subplots(1,2,figsize=(8,3))\n",
        "axes[0].hist(np.random.rand(1000))\n",
        "axes[1].hist(np.random.rand(1000))\n",
        "plt.show()"
      ],
      "execution_count": 153,
      "outputs": [
        {
          "output_type": "display_data",
          "data": {
            "image/png": "[encoded data removed]",
            "text/plain": [
              "<Figure size 576x216 with 2 Axes>"
            ]
          },
          "metadata": {
            "tags": []
          }
        }
      ]
    },
    {
      "cell_type": "code",
      "metadata": {
        "id": "UNATYMtw2VWO",
        "colab_type": "code",
        "colab": {
          "base_uri": "https://localhost:8080/",
          "height": 214
        },
        "outputId": "c7aa7c2d-e6b7-46da-fbcf-16ad7d556edb"
      },
      "source": [
        "np_matrix = np.random.rand(5,5)\n",
        "idx_choose = np.random.choice(5,3,replace = False)\n",
        "np_matrix_choose = np_martix[idx_choose,:]\n",
        "np_martix_choose"
      ],
      "execution_count": 158,
      "outputs": [
        {
          "output_type": "error",
          "ename": "NameError",
          "evalue": "ignored",
          "traceback": [
            "\u001b[0;31m---------------------------------------------------------------------------\u001b[0m",
            "\u001b[0;31mNameError\u001b[0m                                 Traceback (most recent call last)",
            "\u001b[0;32m<ipython-input-158-642dacc6a158>\u001b[0m in \u001b[0;36m<module>\u001b[0;34m()\u001b[0m\n\u001b[1;32m      1\u001b[0m \u001b[0mnp_matrix\u001b[0m \u001b[0;34m=\u001b[0m \u001b[0mnp\u001b[0m\u001b[0;34m.\u001b[0m\u001b[0mrandom\u001b[0m\u001b[0;34m.\u001b[0m\u001b[0mrand\u001b[0m\u001b[0;34m(\u001b[0m\u001b[0;36m5\u001b[0m\u001b[0;34m,\u001b[0m\u001b[0;36m5\u001b[0m\u001b[0;34m)\u001b[0m\u001b[0;34m\u001b[0m\u001b[0;34m\u001b[0m\u001b[0m\n\u001b[1;32m      2\u001b[0m \u001b[0midx_choose\u001b[0m \u001b[0;34m=\u001b[0m \u001b[0mnp\u001b[0m\u001b[0;34m.\u001b[0m\u001b[0mrandom\u001b[0m\u001b[0;34m.\u001b[0m\u001b[0mchoice\u001b[0m\u001b[0;34m(\u001b[0m\u001b[0;36m5\u001b[0m\u001b[0;34m,\u001b[0m\u001b[0;36m3\u001b[0m\u001b[0;34m,\u001b[0m\u001b[0mreplace\u001b[0m \u001b[0;34m=\u001b[0m \u001b[0;32mFalse\u001b[0m\u001b[0;34m)\u001b[0m\u001b[0;34m\u001b[0m\u001b[0;34m\u001b[0m\u001b[0m\n\u001b[0;32m----> 3\u001b[0;31m \u001b[0mnp_matrix_choose\u001b[0m \u001b[0;34m=\u001b[0m \u001b[0mnp_martix\u001b[0m\u001b[0;34m[\u001b[0m\u001b[0midx_choose\u001b[0m\u001b[0;34m,\u001b[0m\u001b[0;34m:\u001b[0m\u001b[0;34m]\u001b[0m\u001b[0;34m\u001b[0m\u001b[0;34m\u001b[0m\u001b[0m\n\u001b[0m\u001b[1;32m      4\u001b[0m \u001b[0mnp_martix_choose\u001b[0m\u001b[0;34m\u001b[0m\u001b[0;34m\u001b[0m\u001b[0m\n",
            "\u001b[0;31mNameError\u001b[0m: name 'np_martix' is not defined"
          ]
        }
      ]
    },
    {
      "cell_type": "code",
      "metadata": {
        "id": "l3SMebjt1dim",
        "colab_type": "code",
        "colab": {
          "base_uri": "https://localhost:8080/",
          "height": 187
        },
        "outputId": "40daa43b-c87b-417d-e1f0-96bb42df5dcb"
      },
      "source": [
        "g = np.random.rand(10,5) \n",
        "k = np.random.choice(2,10)\n",
        "g[:,4] = k \n",
        "g\n",
        "\n",
        "\n",
        "\n",
        "\n",
        "\n",
        "\n",
        "\n"
      ],
      "execution_count": 260,
      "outputs": [
        {
          "output_type": "execute_result",
          "data": {
            "text/plain": [
              "array([[0.63888888, 0.63806838, 0.97065197, 0.57913885, 0.        ],\n",
              "       [0.90364179, 0.72796579, 0.20903479, 0.88968204, 0.        ],\n",
              "       [0.75653706, 0.17744982, 0.72538764, 0.99023638, 0.        ],\n",
              "       [0.74814399, 0.27828661, 0.13931105, 0.18575503, 1.        ],\n",
              "       [0.34405518, 0.16862652, 0.85746548, 0.37391038, 1.        ],\n",
              "       [0.84536714, 0.74667261, 0.54970525, 0.45689733, 0.        ],\n",
              "       [0.03238553, 0.38442204, 0.17755263, 0.72273415, 0.        ],\n",
              "       [0.70985102, 0.86504995, 0.67696932, 0.79327202, 0.        ],\n",
              "       [0.83286175, 0.76606606, 0.56488018, 0.89282663, 0.        ],\n",
              "       [0.91614208, 0.98744221, 0.35556436, 0.34414961, 0.        ]])"
            ]
          },
          "metadata": {
            "tags": []
          },
          "execution_count": 260
        }
      ]
    },
    {
      "cell_type": "code",
      "metadata": {
        "id": "5Ui-8cL5BRoT",
        "colab_type": "code",
        "colab": {}
      },
      "source": [
        ""
      ],
      "execution_count": 0,
      "outputs": []
    },
    {
      "cell_type": "code",
      "metadata": {
        "id": "sOBaQ6Sf9RfB",
        "colab_type": "code",
        "colab": {}
      },
      "source": [
        "\n",
        "g = np.random.rand(10,5) \n",
        "k = np.random.choice(3,10)\n",
        "result = np.where(k == 2)\n",
        "\n",
        "\n",
        "\n",
        "\n"
      ],
      "execution_count": 0,
      "outputs": []
    },
    {
      "cell_type": "code",
      "metadata": {
        "id": "mB0CyMiHAxsn",
        "colab_type": "code",
        "colab": {
          "base_uri": "https://localhost:8080/",
          "height": 187
        },
        "outputId": "5cbfbf15-12af-4498-9d0d-385c0c98dc11"
      },
      "source": [
        "g"
      ],
      "execution_count": 277,
      "outputs": [
        {
          "output_type": "execute_result",
          "data": {
            "text/plain": [
              "array([[0.71312427, 0.0835579 , 0.68956226, 0.50589328, 0.72953444],\n",
              "       [0.66288058, 0.22560223, 0.67448988, 0.81626426, 0.94774362],\n",
              "       [0.98984836, 0.9499314 , 0.36913427, 0.62012556, 0.02630452],\n",
              "       [0.47937619, 0.01279525, 0.67062322, 0.45165039, 0.13119319],\n",
              "       [0.81041138, 0.10000512, 0.95746896, 0.63214966, 0.68181898],\n",
              "       [0.83857641, 0.36103383, 0.74533535, 0.95829459, 0.01109379],\n",
              "       [0.4767101 , 0.95026091, 0.0164372 , 0.15244431, 0.84934755],\n",
              "       [0.68687847, 0.39390513, 0.6358091 , 0.64129626, 0.67699166],\n",
              "       [0.33668626, 0.47852966, 0.23582724, 0.78162445, 0.1010832 ],\n",
              "       [0.20632795, 0.00998006, 0.97738681, 0.62512448, 0.97834328]])"
            ]
          },
          "metadata": {
            "tags": []
          },
          "execution_count": 277
        }
      ]
    },
    {
      "cell_type": "code",
      "metadata": {
        "id": "7hHIUoiNA3Ml",
        "colab_type": "code",
        "colab": {
          "base_uri": "https://localhost:8080/",
          "height": 34
        },
        "outputId": "26b1dea4-12df-40c1-b62c-c8046cab5a52"
      },
      "source": [
        "k"
      ],
      "execution_count": 281,
      "outputs": [
        {
          "output_type": "execute_result",
          "data": {
            "text/plain": [
              "array([1, 2, 0, 0, 2, 0, 1, 2, 0, 1])"
            ]
          },
          "metadata": {
            "tags": []
          },
          "execution_count": 281
        }
      ]
    },
    {
      "cell_type": "code",
      "metadata": {
        "id": "ne6zrU4gA4_t",
        "colab_type": "code",
        "colab": {
          "base_uri": "https://localhost:8080/",
          "height": 34
        },
        "outputId": "2cf8c8cc-06e5-486f-f910-b25d2a3da6f9"
      },
      "source": [
        "result"
      ],
      "execution_count": 284,
      "outputs": [
        {
          "output_type": "execute_result",
          "data": {
            "text/plain": [
              "(array([1, 2, 4, 6, 8]),)"
            ]
          },
          "metadata": {
            "tags": []
          },
          "execution_count": 284
        }
      ]
    },
    {
      "cell_type": "code",
      "metadata": {
        "id": "_8izunmEA6p6",
        "colab_type": "code",
        "colab": {
          "base_uri": "https://localhost:8080/",
          "height": 68
        },
        "outputId": "83f81cda-1089-4d7a-a9a4-cc919fb93eda"
      },
      "source": [
        "g[result,:]"
      ],
      "execution_count": 282,
      "outputs": [
        {
          "output_type": "execute_result",
          "data": {
            "text/plain": [
              "array([[[0.66288058, 0.22560223, 0.67448988, 0.81626426, 0.94774362],\n",
              "        [0.81041138, 0.10000512, 0.95746896, 0.63214966, 0.68181898],\n",
              "        [0.68687847, 0.39390513, 0.6358091 , 0.64129626, 0.67699166]]])"
            ]
          },
          "metadata": {
            "tags": []
          },
          "execution_count": 282
        }
      ]
    }
  ]
}