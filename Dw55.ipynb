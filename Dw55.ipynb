{
  "nbformat": 4,
  "nbformat_minor": 0,
  "metadata": {
    "colab": {
      "name": "Dw55.ipynb",
      "provenance": [],
      "include_colab_link": true
    },
    "kernelspec": {
      "name": "python3",
      "display_name": "Python 3"
    }
  },
  "cells": [
    {
      "cell_type": "markdown",
      "metadata": {
        "id": "view-in-github",
        "colab_type": "text"
      },
      "source": [
        "<a href=\"https://colab.research.google.com/github/Oatchanon/Datawh/blob/master/Dw55.ipynb\" target=\"_parent\"><img src=\"https://colab.research.google.com/assets/colab-badge.svg\" alt=\"Open In Colab\"/></a>"
      ]
    },
    {
      "cell_type": "markdown",
      "metadata": {
        "id": "Ix-RzZPSmwZy",
        "colab_type": "text"
      },
      "source": [
        "# List\n",
        "How to use list \n"
      ]
    },
    {
      "cell_type": "code",
      "metadata": {
        "id": "J2KTHVAXm45a",
        "colab_type": "code",
        "colab": {
          "base_uri": "https://localhost:8080/",
          "height": 34
        },
        "outputId": "02d3805a-33e6-4db0-d86a-710afba3f552"
      },
      "source": [
        "mylist = []\n",
        "mylist.append(\"Oat\")\n",
        "mylist.append(200)\n",
        "mylist"
      ],
      "execution_count": 5,
      "outputs": [
        {
          "output_type": "execute_result",
          "data": {
            "text/plain": [
              "['Oat', 200]"
            ]
          },
          "metadata": {
            "tags": []
          },
          "execution_count": 5
        }
      ]
    },
    {
      "cell_type": "code",
      "metadata": {
        "id": "a3GjQF_nqg9A",
        "colab_type": "code",
        "colab": {}
      },
      "source": [
        ""
      ],
      "execution_count": 0,
      "outputs": []
    },
    {
      "cell_type": "markdown",
      "metadata": {
        "id": "AFgeQsuvnz35",
        "colab_type": "text"
      },
      "source": [
        "# if else\n",
        "how to use"
      ]
    },
    {
      "cell_type": "code",
      "metadata": {
        "id": "M0I76mzRnZex",
        "colab_type": "code",
        "colab": {
          "base_uri": "https://localhost:8080/",
          "height": 129
        },
        "outputId": "0d4af830-eba8-47b9-edd7-6cd778fe9b25"
      },
      "source": [
        "score = 5 \n",
        "  if score > 50 :\n",
        "    print(\"a\")\n",
        "  elif score > 20 :\n",
        "      print(\"b\")\n",
        "    else:\n",
        "      print(\"c\")\n",
        "      if score == 0:\n",
        "      print(\"f\")\n",
        "        \n",
        "       "
      ],
      "execution_count": 76,
      "outputs": [
        {
          "output_type": "error",
          "ename": "IndentationError",
          "evalue": "ignored",
          "traceback": [
            "\u001b[0;36m  File \u001b[0;32m\"<ipython-input-76-cfee0e7760ec>\"\u001b[0;36m, line \u001b[0;32m2\u001b[0m\n\u001b[0;31m    if score > 50 :\u001b[0m\n\u001b[0m    ^\u001b[0m\n\u001b[0;31mIndentationError\u001b[0m\u001b[0;31m:\u001b[0m unexpected indent\n"
          ]
        }
      ]
    },
    {
      "cell_type": "code",
      "metadata": {
        "id": "onLwKZJ5qh0m",
        "colab_type": "code",
        "colab": {}
      },
      "source": [
        "# Loop"
      ],
      "execution_count": 0,
      "outputs": []
    },
    {
      "cell_type": "code",
      "metadata": {
        "id": "-NARNSjqrLxm",
        "colab_type": "code",
        "colab": {
          "base_uri": "https://localhost:8080/",
          "height": 697
        },
        "outputId": "31bc933b-1621-4a74-8052-00dba6af4956"
      },
      "source": [
        "summation = []\n",
        "for i in range(0,10):\n",
        "   sumation.append(i)\n",
        "for i in sumation :\n",
        "  print(str(i))"
      ],
      "execution_count": 62,
      "outputs": [
        {
          "output_type": "stream",
          "text": [
            "1\n",
            "1\n",
            "1\n",
            "1\n",
            "1\n",
            "1\n",
            "1\n",
            "1\n",
            "1\n",
            "1\n",
            "0\n",
            "1\n",
            "2\n",
            "3\n",
            "4\n",
            "5\n",
            "6\n",
            "7\n",
            "8\n",
            "9\n",
            "0\n",
            "1\n",
            "2\n",
            "3\n",
            "4\n",
            "5\n",
            "6\n",
            "7\n",
            "8\n",
            "9\n",
            "0\n",
            "1\n",
            "2\n",
            "3\n",
            "4\n",
            "5\n",
            "6\n",
            "7\n",
            "8\n",
            "9\n"
          ],
          "name": "stdout"
        }
      ]
    }
  ]
}