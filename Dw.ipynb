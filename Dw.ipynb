{
  "nbformat": 4,
  "nbformat_minor": 0,
  "metadata": {
    "colab": {
      "name": "Dw.ipynb",
      "provenance": [],
      "include_colab_link": true
    },
    "kernelspec": {
      "name": "python3",
      "display_name": "Python 3"
    }
  },
  "cells": [
    {
      "cell_type": "markdown",
      "metadata": {
        "id": "view-in-github",
        "colab_type": "text"
      },
      "source": [
        "<a href=\"https://colab.research.google.com/github/Oatchanon/Datawh/blob/master/Dw.ipynb\" target=\"_parent\"><img src=\"https://colab.research.google.com/assets/colab-badge.svg\" alt=\"Open In Colab\"/></a>"
      ]
    },
    {
      "cell_type": "markdown",
      "metadata": {
        "id": "zZO-d80GiRNW",
        "colab_type": "text"
      },
      "source": [
        ""
      ]
    },
    {
      "cell_type": "markdown",
      "metadata": {
        "id": "u7mx64gOiUAe",
        "colab_type": "text"
      },
      "source": [
        "# hello python\n",
        "print(\"h\")"
      ]
    },
    {
      "cell_type": "markdown",
      "metadata": {
        "id": "2Qs-QzQaiQHO",
        "colab_type": "text"
      },
      "source": [
        ""
      ]
    },
    {
      "cell_type": "code",
      "metadata": {
        "id": "drLccXaFi8NP",
        "colab_type": "code",
        "outputId": "5f3807cc-1999-4df0-bc81-72ab00de74e7",
        "colab": {
          "base_uri": "https://localhost:8080/",
          "height": 34
        }
      },
      "source": [
        "print(\"hello word\")"
      ],
      "execution_count": 0,
      "outputs": [
        {
          "output_type": "stream",
          "text": [
            "hello word\n"
          ],
          "name": "stdout"
        }
      ]
    },
    {
      "cell_type": "code",
      "metadata": {
        "id": "vHoQhHJ8jVBd",
        "colab_type": "code",
        "outputId": "d3ef4cba-c2ff-434e-87cc-04e5049bedd4",
        "colab": {
          "base_uri": "https://localhost:8080/",
          "height": 34
        }
      },
      "source": [
        "a = 5\n",
        "b = 1\n",
        "c = a*b\n",
        "print(\"oat is \",c)"
      ],
      "execution_count": 0,
      "outputs": [
        {
          "output_type": "stream",
          "text": [
            "oat is  5\n"
          ],
          "name": "stdout"
        }
      ]
    },
    {
      "cell_type": "markdown",
      "metadata": {
        "id": "_oDomFj_mgXV",
        "colab_type": "text"
      },
      "source": [
        ""
      ]
    },
    {
      "cell_type": "code",
      "metadata": {
        "id": "zvSLnq1WkTC5",
        "colab_type": "code",
        "colab": {}
      },
      "source": [
        "import matplotlib.pyplot as plt"
      ],
      "execution_count": 0,
      "outputs": []
    },
    {
      "cell_type": "code",
      "metadata": {
        "id": "87eLWnDEkdc4",
        "colab_type": "code",
        "colab": {}
      },
      "source": [
        "import numpy  as np"
      ],
      "execution_count": 0,
      "outputs": []
    },
    {
      "cell_type": "code",
      "metadata": {
        "id": "76PAE5KEkjih",
        "colab_type": "code",
        "outputId": "22f17ffe-be43-4d55-ea85-5212601f6d39",
        "colab": {
          "base_uri": "https://localhost:8080/",
          "height": 596
        }
      },
      "source": [
        "fig, axes = plt.subplots(1,figsize=(9,10))\n",
        "np.cos\n",
        "plt.show()"
      ],
      "execution_count": 0,
      "outputs": [
        {
          "output_type": "display_data",
          "data": {
            "image/png": "[encoded data removed]",
            "text/plain": [
              "<Figure size 648x720 with 1 Axes>"
            ]
          },
          "metadata": {
            "tags": []
          }
        }
      ]
    },
    {
      "cell_type": "code",
      "metadata": {
        "id": "uQMxB28Nk6VK",
        "colab_type": "code",
        "colab": {}
      },
      "source": [
        ""
      ],
      "execution_count": 0,
      "outputs": []
    },
    {
      "cell_type": "code",
      "metadata": {
        "id": "9Gi0WE4snYaS",
        "colab_type": "code",
        "outputId": "5642807a-ca57-48f8-89c5-5f1ff12d2488",
        "colab": {
          "base_uri": "https://localhost:8080/",
          "height": 269
        }
      },
      "source": [
        "x = np.linspace(0,12)\n",
        "plt.plot(x, np.cos(x), label='cos(x)')\n",
        "plt.show()"
      ],
      "execution_count": 141,
      "outputs": [
        {
          "output_type": "display_data",
          "data": {
            "image/png": "[encoded data removed]",
            "text/plain": [
              "<Figure size 432x288 with 1 Axes>"
            ]
          },
          "metadata": {
            "tags": []
          }
        }
      ]
    },
    {
      "cell_type": "code",
      "metadata": {
        "id": "moRKK2VD79zV",
        "colab_type": "code",
        "colab": {}
      },
      "source": [
        ""
      ],
      "execution_count": 0,
      "outputs": []
    },
    {
      "cell_type": "code",
      "metadata": {
        "id": "vQJYA2mf8EZE",
        "colab_type": "code",
        "colab": {
          "base_uri": "https://localhost:8080/",
          "height": 102
        },
        "outputId": "ad5bfaa1-c3ae-4a52-8551-5b3f61989e5b"
      },
      "source": [
        "ti = np.genfromtxt(\"https://raw.githubusercontent.com/Oatchanon/Datawh/master/titanic.csv\" , delimiter=';' , missing_values= None ,dtype = str )\n",
        "ti[0,:]\n",
        "\n"
      ],
      "execution_count": 202,
      "outputs": [
        {
          "output_type": "execute_result",
          "data": {
            "text/plain": [
              "array(['\"Passenger Class\"', '\"Name\"', '\"Sex\"', '\"Age\"',\n",
              "       '\"No of Siblings or Spouses on Board\"',\n",
              "       '\"No of Parents or Children on Board\"', '\"Ticket Number\"',\n",
              "       '\"Passenger Fare\"', '\"Cabin\"', '\"Port of Embarkation\"',\n",
              "       '\"Life Boat\"', '\"Survived\"'], dtype='<U84')"
            ]
          },
          "metadata": {
            "tags": []
          },
          "execution_count": 202
        }
      ]
    },
    {
      "cell_type": "code",
      "metadata": {
        "id": "4M6BdUNP8_9s",
        "colab_type": "code",
        "colab": {}
      },
      "source": [
        "ti = np.delete(ti,[1,6,7,8,9,10],1)"
      ],
      "execution_count": 0,
      "outputs": []
    },
    {
      "cell_type": "code",
      "metadata": {
        "id": "CE7Aln1c-rYs",
        "colab_type": "code",
        "colab": {
          "base_uri": "https://localhost:8080/",
          "height": 68
        },
        "outputId": "93602bfb-c672-49ad-a8d8-3940d7cae69e"
      },
      "source": [
        "ti[0,:]"
      ],
      "execution_count": 266,
      "outputs": [
        {
          "output_type": "execute_result",
          "data": {
            "text/plain": [
              "array(['\"Passenger Class\"', '\"Sex\"', '\"Age\"',\n",
              "       '\"No of Siblings or Spouses on Board\"',\n",
              "       '\"No of Parents or Children on Board\"', '\"Survived\"'], dtype='<U84')"
            ]
          },
          "metadata": {
            "tags": []
          },
          "execution_count": 266
        }
      ]
    },
    {
      "cell_type": "code",
      "metadata": {
        "id": "iM5k8rrAH1Du",
        "colab_type": "code",
        "colab": {
          "base_uri": "https://localhost:8080/",
          "height": 34
        },
        "outputId": "97fd2b39-19b0-4303-bcf4-6aac028f1b47"
      },
      "source": [
        "rows, cols =np.where(ti == None)\n",
        "print(str(len(np.unique(rows)))+ \" \"+str(len(np.unique(cols))))"
      ],
      "execution_count": 267,
      "outputs": [
        {
          "output_type": "stream",
          "text": [
            "0 0\n"
          ],
          "name": "stdout"
        }
      ]
    },
    {
      "cell_type": "code",
      "metadata": {
        "id": "bmNHBcDmIRu8",
        "colab_type": "code",
        "colab": {
          "base_uri": "https://localhost:8080/",
          "height": 34
        },
        "outputId": "1a4eb753-5922-4cab-d4bc-2bcdc75cab82"
      },
      "source": [
        "rows, cols =np.where(ti == ' ' )\n",
        "print(str(len(np.unique(rows)))+ \" \"+str(len(np.unique(cols))))"
      ],
      "execution_count": 272,
      "outputs": [
        {
          "output_type": "stream",
          "text": [
            "0 0\n"
          ],
          "name": "stdout"
        }
      ]
    },
    {
      "cell_type": "code",
      "metadata": {
        "id": "jiTBtuCrBJKF",
        "colab_type": "code",
        "colab": {
          "base_uri": "https://localhost:8080/",
          "height": 34
        },
        "outputId": "ef455749-b9aa-47ed-e274-79f3aca91501"
      },
      "source": [
        "np.unique(cols)"
      ],
      "execution_count": 269,
      "outputs": [
        {
          "output_type": "execute_result",
          "data": {
            "text/plain": [
              "array([], dtype=int64)"
            ]
          },
          "metadata": {
            "tags": []
          },
          "execution_count": 269
        }
      ]
    },
    {
      "cell_type": "code",
      "metadata": {
        "id": "ZLW8PK85JaGe",
        "colab_type": "code",
        "colab": {
          "base_uri": "https://localhost:8080/",
          "height": 68
        },
        "outputId": "b38d892f-9b39-41fa-a6f2-e7df913e8647"
      },
      "source": [
        "ti= np.delete(ti,2,1)\n",
        "ti[0,:]\n"
      ],
      "execution_count": 271,
      "outputs": [
        {
          "output_type": "execute_result",
          "data": {
            "text/plain": [
              "array(['\"Passenger Class\"', '\"Sex\"',\n",
              "       '\"No of Siblings or Spouses on Board\"',\n",
              "       '\"No of Parents or Children on Board\"', '\"Survived\"'], dtype='<U84')"
            ]
          },
          "metadata": {
            "tags": []
          },
          "execution_count": 271
        }
      ]
    },
    {
      "cell_type": "code",
      "metadata": {
        "id": "5Fg232aTJkbM",
        "colab_type": "code",
        "colab": {}
      },
      "source": [
        "header = ti[0,:]; ti =np.delete(ti,0,0)"
      ],
      "execution_count": 0,
      "outputs": []
    },
    {
      "cell_type": "code",
      "metadata": {
        "id": "__gnp8nSK_FG",
        "colab_type": "code",
        "colab": {
          "base_uri": "https://localhost:8080/",
          "height": 34
        },
        "outputId": "14e2885c-b021-430e-e8af-3659ac870e48"
      },
      "source": [
        "passenger_class = np.unique(ti[:,0])\n",
        "passenger_class"
      ],
      "execution_count": 280,
      "outputs": [
        {
          "output_type": "execute_result",
          "data": {
            "text/plain": [
              "array(['\"First\"', '\"Second\"', '\"Third\"'], dtype='<U84')"
            ]
          },
          "metadata": {
            "tags": []
          },
          "execution_count": 280
        }
      ]
    },
    {
      "cell_type": "code",
      "metadata": {
        "id": "wCx3lKydLWWA",
        "colab_type": "code",
        "colab": {}
      },
      "source": [
        ""
      ],
      "execution_count": 0,
      "outputs": []
    },
    {
      "cell_type": "code",
      "metadata": {
        "id": "iWUHbFGRLM7d",
        "colab_type": "code",
        "colab": {
          "base_uri": "https://localhost:8080/",
          "height": 34
        },
        "outputId": "0f06e2f8-c529-4386-c4b0-424df9be495a"
      },
      "source": [
        "passenger_class_value = [sum(ti[:,0]==passenger_class[0]),\n",
        "                                      sum(ti[:,0]==passenger_class[1]),\n",
        "                                      sum(ti[:,0]==passenger_class[2])]\n",
        "passenger_class_value"
      ],
      "execution_count": 275,
      "outputs": [
        {
          "output_type": "execute_result",
          "data": {
            "text/plain": [
              "[323, 277, 709]"
            ]
          },
          "metadata": {
            "tags": []
          },
          "execution_count": 275
        }
      ]
    },
    {
      "cell_type": "code",
      "metadata": {
        "id": "2aQcCIQhLxgG",
        "colab_type": "code",
        "colab": {
          "base_uri": "https://localhost:8080/",
          "height": 286
        },
        "outputId": "88414a18-ad2c-4589-9f83-651e2936dd21"
      },
      "source": [
        "plt.bar(passenger_class,passenger_class_value)"
      ],
      "execution_count": 276,
      "outputs": [
        {
          "output_type": "execute_result",
          "data": {
            "text/plain": [
              "<BarContainer object of 3 artists>"
            ]
          },
          "metadata": {
            "tags": []
          },
          "execution_count": 276
        },
        {
          "output_type": "display_data",
          "data": {
            "image/png": "[encoded data removed]",
            "text/plain": [
              "<Figure size 432x288 with 1 Axes>"
            ]
          },
          "metadata": {
            "tags": []
          }
        }
      ]
    },
    {
      "cell_type": "code",
      "metadata": {
        "id": "VwVfzz5RMmPn",
        "colab_type": "code",
        "colab": {
          "base_uri": "https://localhost:8080/",
          "height": 34
        },
        "outputId": "c60ab957-026c-4801-cc43-74fdfe45cf1d"
      },
      "source": [
        "sex = np.unique(ti[:,0])\n",
        "sex"
      ],
      "execution_count": 281,
      "outputs": [
        {
          "output_type": "execute_result",
          "data": {
            "text/plain": [
              "array(['\"First\"', '\"Second\"', '\"Third\"'], dtype='<U84')"
            ]
          },
          "metadata": {
            "tags": []
          },
          "execution_count": 281
        }
      ]
    },
    {
      "cell_type": "code",
      "metadata": {
        "id": "X7jVv32_N3Zt",
        "colab_type": "code",
        "colab": {
          "base_uri": "https://localhost:8080/",
          "height": 34
        },
        "outputId": "cff02bac-73b3-473c-92d0-550d00cf7e53"
      },
      "source": [
        "Survived = np.unique(ti[:,4])\n",
        "Survived "
      ],
      "execution_count": 293,
      "outputs": [
        {
          "output_type": "execute_result",
          "data": {
            "text/plain": [
              "array(['\"No\"', '\"Yes\"'], dtype='<U84')"
            ]
          },
          "metadata": {
            "tags": []
          },
          "execution_count": 293
        }
      ]
    },
    {
      "cell_type": "code",
      "metadata": {
        "id": "cTB-Rqw-L3b1",
        "colab_type": "code",
        "colab": {
          "base_uri": "https://localhost:8080/",
          "height": 34
        },
        "outputId": "b9c434fe-60b3-4873-fab7-e90cbec7ac91"
      },
      "source": [
        "sex = np.unique(ti[:,1])\n",
        "sex\n"
      ],
      "execution_count": 289,
      "outputs": [
        {
          "output_type": "execute_result",
          "data": {
            "text/plain": [
              "array(['\"Female\"', '\"Male\"'], dtype='<U84')"
            ]
          },
          "metadata": {
            "tags": []
          },
          "execution_count": 289
        }
      ]
    },
    {
      "cell_type": "code",
      "metadata": {
        "id": "BwxS1xPVNJz_",
        "colab_type": "code",
        "colab": {
          "base_uri": "https://localhost:8080/",
          "height": 34
        },
        "outputId": "15632f58-d2e6-4566-baff-3c6b2c64cad1"
      },
      "source": [
        "sex_value = [sum(ti[:,1]==sex[0]),\n",
        "                                      sum(ti[:,1]==sex[1])]\n",
        "sex_value\n"
      ],
      "execution_count": 291,
      "outputs": [
        {
          "output_type": "execute_result",
          "data": {
            "text/plain": [
              "[466, 843]"
            ]
          },
          "metadata": {
            "tags": []
          },
          "execution_count": 291
        }
      ]
    },
    {
      "cell_type": "code",
      "metadata": {
        "id": "OOzjg1FQOFBu",
        "colab_type": "code",
        "colab": {
          "base_uri": "https://localhost:8080/",
          "height": 34
        },
        "outputId": "12bb3417-b7c6-4ef6-c8d7-7e10c32e05dd"
      },
      "source": [
        "Survived_value = [sum(ti[:,4]==Survived[0]),\n",
        "                                      sum(ti[:,4]==Survived[1])]\n",
        "Survived_value"
      ],
      "execution_count": 296,
      "outputs": [
        {
          "output_type": "execute_result",
          "data": {
            "text/plain": [
              "[809, 500]"
            ]
          },
          "metadata": {
            "tags": []
          },
          "execution_count": 296
        }
      ]
    },
    {
      "cell_type": "code",
      "metadata": {
        "id": "3gNHPlCpNU72",
        "colab_type": "code",
        "colab": {
          "base_uri": "https://localhost:8080/",
          "height": 214
        },
        "outputId": "8a5e45db-7e6d-4b29-af84-3a3730f846a7"
      },
      "source": [
        "fig, axes = plt.subplots(1,2,figsize=(8,3))\n",
        "axes[0].bar(sex,sex_value)\n",
        "axes[1].bar(Survived,Survived_value)\n",
        "plt.show()\n",
        "\n",
        "\n"
      ],
      "execution_count": 359,
      "outputs": [
        {
          "output_type": "display_data",
          "data": {
            "image/png": "[encoded data removed]",
            "text/plain": [
              "<Figure size 576x216 with 2 Axes>"
            ]
          },
          "metadata": {
            "tags": []
          }
        }
      ]
    },
    {
      "cell_type": "code",
      "metadata": {
        "id": "RQJQ-oJKO62H",
        "colab_type": "code",
        "colab": {
          "base_uri": "https://localhost:8080/",
          "height": 136
        },
        "outputId": "99f5f1b5-8125-41ad-ee72-9cc75b2656e2"
      },
      "source": [
        "ti[ti == passenger_class[0]] = 0\n",
        "ti[ti == passenger_class[1]] = 1\n",
        "ti[ti == passenger_class[2]] = 2\n",
        "ti[ti == sex[0]] = 0\n",
        "ti[ti == sex[1]] = 1\n",
        "ti[ti == Survived[0]] = 0\n",
        "ti[ti == Survived[1]] = 1\n",
        "ti"
      ],
      "execution_count": 363,
      "outputs": [
        {
          "output_type": "execute_result",
          "data": {
            "text/plain": [
              "array([['0', '0', '0', '0', '1'],\n",
              "       ['0', '1', '1', '2', '1'],\n",
              "       ['0', '0', '1', '2', '0'],\n",
              "       ...,\n",
              "       ['2', '1', '0', '0', '0'],\n",
              "       ['2', '1', '0', '0', '0'],\n",
              "       ['2', '1', '0', '0', '0']], dtype='<U84')"
            ]
          },
          "metadata": {
            "tags": []
          },
          "execution_count": 363
        }
      ]
    },
    {
      "cell_type": "code",
      "metadata": {
        "id": "Wzk9DVsJNx09",
        "colab_type": "code",
        "colab": {
          "base_uri": "https://localhost:8080/",
          "height": 34
        },
        "outputId": "08433da0-0441-4b8c-d471-478db05471f9"
      },
      "source": [
        "ti = ti.astype('float')\n",
        "ti.dtype"
      ],
      "execution_count": 364,
      "outputs": [
        {
          "output_type": "execute_result",
          "data": {
            "text/plain": [
              "dtype('float64')"
            ]
          },
          "metadata": {
            "tags": []
          },
          "execution_count": 364
        }
      ]
    },
    {
      "cell_type": "code",
      "metadata": {
        "id": "jlfCeSKlTGgP",
        "colab_type": "code",
        "colab": {
          "base_uri": "https://localhost:8080/",
          "height": 34
        },
        "outputId": "827c4a51-fb3e-484e-f141-39f0abb9af04"
      },
      "source": [
        "y = ti[:,-1]\n",
        "x = np.delete(ti,-1,1)\n",
        "x.shape"
      ],
      "execution_count": 365,
      "outputs": [
        {
          "output_type": "execute_result",
          "data": {
            "text/plain": [
              "(1309, 4)"
            ]
          },
          "metadata": {
            "tags": []
          },
          "execution_count": 365
        }
      ]
    },
    {
      "cell_type": "code",
      "metadata": {
        "id": "Tiyy9aeMTQS3",
        "colab_type": "code",
        "colab": {}
      },
      "source": [
        ""
      ],
      "execution_count": 0,
      "outputs": []
    }
  ]
}