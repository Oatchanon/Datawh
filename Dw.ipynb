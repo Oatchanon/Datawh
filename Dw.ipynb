{
  "nbformat": 4,
  "nbformat_minor": 0,
  "metadata": {
    "colab": {
      "name": "Dw.ipynb",
      "provenance": [],
      "include_colab_link": true
    },
    "kernelspec": {
      "name": "python3",
      "display_name": "Python 3"
    }
  },
  "cells": [
    {
      "cell_type": "markdown",
      "metadata": {
        "id": "view-in-github",
        "colab_type": "text"
      },
      "source": [
        "<a href=\"https://colab.research.google.com/github/Oatchanon/Datawh/blob/master/Dw.ipynb\" target=\"_parent\"><img src=\"https://colab.research.google.com/assets/colab-badge.svg\" alt=\"Open In Colab\"/></a>"
      ]
    },
    {
      "cell_type": "markdown",
      "metadata": {
        "id": "zZO-d80GiRNW",
        "colab_type": "text"
      },
      "source": [
        ""
      ]
    },
    {
      "cell_type": "markdown",
      "metadata": {
        "id": "u7mx64gOiUAe",
        "colab_type": "text"
      },
      "source": [
        "# hello python\n",
        "print(\"h\")"
      ]
    },
    {
      "cell_type": "markdown",
      "metadata": {
        "id": "2Qs-QzQaiQHO",
        "colab_type": "text"
      },
      "source": [
        ""
      ]
    },
    {
      "cell_type": "code",
      "metadata": {
        "id": "drLccXaFi8NP",
        "colab_type": "code",
        "outputId": "5f3807cc-1999-4df0-bc81-72ab00de74e7",
        "colab": {
          "base_uri": "https://localhost:8080/",
          "height": 34
        }
      },
      "source": [
        "print(\"hello word\")"
      ],
      "execution_count": 0,
      "outputs": [
        {
          "output_type": "stream",
          "text": [
            "hello word\n"
          ],
          "name": "stdout"
        }
      ]
    },
    {
      "cell_type": "code",
      "metadata": {
        "id": "vHoQhHJ8jVBd",
        "colab_type": "code",
        "outputId": "d3ef4cba-c2ff-434e-87cc-04e5049bedd4",
        "colab": {
          "base_uri": "https://localhost:8080/",
          "height": 34
        }
      },
      "source": [
        "a = 5\n",
        "b = 1\n",
        "c = a*b\n",
        "print(\"oat is \",c)"
      ],
      "execution_count": 0,
      "outputs": [
        {
          "output_type": "stream",
          "text": [
            "oat is  5\n"
          ],
          "name": "stdout"
        }
      ]
    },
    {
      "cell_type": "markdown",
      "metadata": {
        "id": "_oDomFj_mgXV",
        "colab_type": "text"
      },
      "source": [
        ""
      ]
    },
    {
      "cell_type": "code",
      "metadata": {
        "id": "zvSLnq1WkTC5",
        "colab_type": "code",
        "colab": {}
      },
      "source": [
        "import matplotlib.pyplot as plt"
      ],
      "execution_count": 0,
      "outputs": []
    },
    {
      "cell_type": "code",
      "metadata": {
        "id": "87eLWnDEkdc4",
        "colab_type": "code",
        "colab": {}
      },
      "source": [
        "import numpy  as np"
      ],
      "execution_count": 0,
      "outputs": []
    },
    {
      "cell_type": "code",
      "metadata": {
        "id": "76PAE5KEkjih",
        "colab_type": "code",
        "outputId": "22f17ffe-be43-4d55-ea85-5212601f6d39",
        "colab": {
          "base_uri": "https://localhost:8080/",
          "height": 596
        }
      },
      "source": [
        "fig, axes = plt.subplots(1,figsize=(9,10))\n",
        "np.cos\n",
        "plt.show()"
      ],
      "execution_count": 0,
      "outputs": [
        {
          "output_type": "display_data",
          "data": {
            "image/png": "[encoded data removed]",
            "text/plain": [
              "<Figure size 648x720 with 1 Axes>"
            ]
          },
          "metadata": {
            "tags": []
          }
        }
      ]
    },
    {
      "cell_type": "code",
      "metadata": {
        "id": "uQMxB28Nk6VK",
        "colab_type": "code",
        "colab": {}
      },
      "source": [
        ""
      ],
      "execution_count": 0,
      "outputs": []
    },
    {
      "cell_type": "code",
      "metadata": {
        "id": "9Gi0WE4snYaS",
        "colab_type": "code",
        "outputId": "5642807a-ca57-48f8-89c5-5f1ff12d2488",
        "colab": {
          "base_uri": "https://localhost:8080/",
          "height": 269
        }
      },
      "source": [
        "x = np.linspace(0,12)\n",
        "plt.plot(x, np.cos(x), label='cos(x)')\n",
        "plt.show()"
      ],
      "execution_count": 141,
      "outputs": [
        {
          "output_type": "display_data",
          "data": {
            "image/png": "[encoded data removed]",
            "text/plain": [
              "<Figure size 432x288 with 1 Axes>"
            ]
          },
          "metadata": {
            "tags": []
          }
        }
      ]
    },
    {
      "cell_type": "code",
      "metadata": {
        "id": "moRKK2VD79zV",
        "colab_type": "code",
        "colab": {}
      },
      "source": [
        ""
      ],
      "execution_count": 0,
      "outputs": []
    },
    {
      "cell_type": "code",
      "metadata": {
        "id": "vQJYA2mf8EZE",
        "colab_type": "code",
        "colab": {
          "base_uri": "https://localhost:8080/",
          "height": 102
        },
        "outputId": "1f30d52f-4985-4828-f827-aacd364ad446"
      },
      "source": [
        "ti = np.genfromtxt(\"https://raw.githubusercontent.com/Oatchanon/Datawh/master/titanic.csv\" , delimiter=';' , missing_values= None ,dtype = str )\n",
        "ti[0,:]\n",
        "\n"
      ],
      "execution_count": 198,
      "outputs": [
        {
          "output_type": "execute_result",
          "data": {
            "text/plain": [
              "array(['\"Passenger Class\"', '\"Name\"', '\"Sex\"', '\"Age\"',\n",
              "       '\"No of Siblings or Spouses on Board\"',\n",
              "       '\"No of Parents or Children on Board\"', '\"Ticket Number\"',\n",
              "       '\"Passenger Fare\"', '\"Cabin\"', '\"Port of Embarkation\"',\n",
              "       '\"Life Boat\"', '\"Survived\"'], dtype='<U84')"
            ]
          },
          "metadata": {
            "tags": []
          },
          "execution_count": 198
        }
      ]
    },
    {
      "cell_type": "code",
      "metadata": {
        "id": "4M6BdUNP8_9s",
        "colab_type": "code",
        "colab": {}
      },
      "source": [
        "ti_clean = np.delete(ti,[1,6,7,8,9,10],1)\n",
        "\n"
      ],
      "execution_count": 0,
      "outputs": []
    },
    {
      "cell_type": "code",
      "metadata": {
        "id": "CE7Aln1c-rYs",
        "colab_type": "code",
        "colab": {
          "base_uri": "https://localhost:8080/",
          "height": 68
        },
        "outputId": "ab4ea230-34ac-4c59-eb9b-74ded58557cd"
      },
      "source": [
        "ti_clean[0,:]"
      ],
      "execution_count": 195,
      "outputs": [
        {
          "output_type": "execute_result",
          "data": {
            "text/plain": [
              "array(['\"Passenger Class\"', '\"Sex\"', '\"Age\"',\n",
              "       '\"No of Siblings or Spouses on Board\"',\n",
              "       '\"No of Parents or Children on Board\"', '\"Survived\"'], dtype='<U84')"
            ]
          },
          "metadata": {
            "tags": []
          },
          "execution_count": 195
        }
      ]
    },
    {
      "cell_type": "code",
      "metadata": {
        "id": "jiTBtuCrBJKF",
        "colab_type": "code",
        "colab": {}
      },
      "source": [
        ""
      ],
      "execution_count": 0,
      "outputs": []
    }
  ]
}